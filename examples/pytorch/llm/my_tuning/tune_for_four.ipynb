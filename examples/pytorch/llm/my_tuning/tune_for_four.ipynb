{
 "cells": [
  {
   "cell_type": "code",
   "execution_count": 2,
   "metadata": {},
   "outputs": [
    {
     "name": "stderr",
     "output_type": "stream",
     "text": [
      "[INFO:swift] Setting torch_dtype: torch.bfloat16\n"
     ]
    },
    {
     "name": "stderr",
     "output_type": "stream",
     "text": [
      "Loading checkpoint shards: 100%|██████████| 3/3 [00:06<00:00,  2.16s/it]\n"
     ]
    }
   ],
   "source": [
    "import os\n",
    "os.environ[\"CUDA_VISIBLE_DEVICES\"] = \"0\"\n",
    "import torch\n",
    "from transformers import LlamaForCausalLM, LlamaTokenizer\n",
    "from peft import PeftModel,PeftConfig\n",
    "import re\n",
    "import json\n",
    "from transformers import AutoModelForCausalLM, AutoTokenizer\n",
    "from peft import PeftModel, PeftConfig\n",
    "import torch\n",
    "from swift.llm import (\n",
    "    get_model_tokenizer, get_template, inference, ModelType, get_default_template_type,\n",
    ")\n",
    "\n",
    "model_type1 = ModelType.mistral_7b_chat_v2\n",
    "template_type1 = get_default_template_type(model_type1)\n",
    "model_mistral, tokenizer_mistral = get_model_tokenizer(model_type1, model_kwargs={'device_map': 'auto'}, model_dir=\"/home/css/models/Mistral-7B-Instruct-v0.2\")\n",
    "\n",
    "import json\n",
    "def validate_format(input_string):\n",
    "    pattern = re.compile(r'^\\d{4}-\\d{2}$')\n",
    "    return bool(pattern.match(input_string))\n",
    "\n",
    "def sql_json_to_alpaca_json(json_path, new_data_list):\n",
    "    # 读取已有的 JSON 数据\n",
    "    try:\n",
    "        with open(json_path, \"r\") as file:\n",
    "            json_data_list = json.load(file)\n",
    "    except FileNotFoundError:\n",
    "        # 如果文件不存在，创建一个空的列表\n",
    "        json_data_list = []\n",
    "\n",
    "    # 将新数据追加到列表\n",
    "    json_data_list.extend(new_data_list)\n",
    "\n",
    "    # 将更新后的列表写回 JSON 文件\n",
    "    with open(json_path, \"w\") as json_file:\n",
    "        json.dump(json_data_list, json_file, indent=4)\n"
   ]
  },
  {
   "cell_type": "code",
   "execution_count": 7,
   "metadata": {},
   "outputs": [
    {
     "name": "stdout",
     "output_type": "stream",
     "text": [
      "10215\n",
      "10215\n"
     ]
    }
   ],
   "source": [
    "\n",
    "import re\n",
    "\n",
    "\n",
    "\n",
    "\n",
    "#推理结果\n",
    "tune_file_path = '/home/qiuyang/workplace/swift/examples/pytorch/llm/my_tuning/data/mistral_list2.json'\n",
    "# 打开文件并加载JSON数据\n",
    "with open(tune_file_path, 'r') as file:\n",
    "    tune_result_list = json.load(file)\n",
    "\n",
    "print(len(tune_result_list))\n",
    "\n",
    "# 打开JSON文件\n",
    "i = 0\n",
    "new_data = [] \n",
    "with open('/home/qiuyang/workplace/swift/examples/pytorch/llm/my_tuning/data/c4_data2.json', 'r') as file:\n",
    "    # 逐行读取文件内容\n",
    "    for line in file:\n",
    "        # 解析JSON数据\n",
    "        data = json.loads(line)\n",
    "        content = data['content']\n",
    "        if len(tokenizer_mistral.tokenize(data['content'])) <3500:\n",
    "            tune_result = tune_result_list[i]\n",
    "            i = i + 1\n",
    "            tune_result = str(tune_result)\n",
    "            result = tune_result[1:-1].split(',')\n",
    "\n",
    "            if len(result) == 3:\n",
    "                output = \"[No,UNKNOWN,UNKNOWN,UNKNOWN]\"\n",
    "                new_json_data = {\n",
    "                    'instruction': '''Whether anyone in the information was transferred between countries in text?if so,from which country to which country?What year and month did the transfer take place?only give the starting point and destination example [Yes or No,starting point,destination,year-month],just country name.''',\n",
    "                    'input': content,\n",
    "                    'output': output\n",
    "                }\n",
    "                new_data.append(new_json_data)\n",
    "            elif len(result) == 4:\n",
    "                if result[0] == \"Yes\" and validate_format(result[3]):\n",
    "                    output = tune_result\n",
    "                    new_json_data = {\n",
    "                    'instruction': '''Whether anyone in the information was transferred between countries in text?if so,from which country to which country?What year and month did the transfer take place?only give the starting point and destination example [Yes or No,starting point,destination,year-month],just country name.''',\n",
    "                    'input': content,\n",
    "                    'output': output\n",
    "                }\n",
    "                new_data.append(new_json_data)\n",
    "        \n",
    "print(i)\n",
    "sql_json_to_alpaca_json('/home/qiuyang/llama-recipes/src/llama_recipes/lla_datasets/alpaca_data_siyuanzu_process.json',new_data_list=new_data)\n"
   ]
  }
 ],
 "metadata": {
  "kernelspec": {
   "display_name": "llama",
   "language": "python",
   "name": "python3"
  },
  "language_info": {
   "codemirror_mode": {
    "name": "ipython",
    "version": 3
   },
   "file_extension": ".py",
   "mimetype": "text/x-python",
   "name": "python",
   "nbconvert_exporter": "python",
   "pygments_lexer": "ipython3",
   "version": "3.10.13"
  }
 },
 "nbformat": 4,
 "nbformat_minor": 2
}
