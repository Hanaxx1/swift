{
 "cells": [
  {
   "cell_type": "code",
   "execution_count": 2,
   "metadata": {},
   "outputs": [
    {
     "name": "stderr",
     "output_type": "stream",
     "text": [
      "[INFO:swift] Loading the model using model_dir: /home/css/models/openchat-3.5-0106\n",
      "[INFO:swift] Setting torch_dtype: torch.bfloat16\n",
      "[INFO:swift] model_config: MistralConfig {\n",
      "  \"_name_or_path\": \"/home/css/models/openchat-3.5-0106\",\n",
      "  \"architectures\": [\n",
      "    \"MistralForCausalLM\"\n",
      "  ],\n",
      "  \"attention_dropout\": 0.0,\n",
      "  \"bos_token_id\": 1,\n",
      "  \"eos_token_id\": 32000,\n",
      "  \"hidden_act\": \"silu\",\n",
      "  \"hidden_size\": 4096,\n",
      "  \"initializer_range\": 0.02,\n",
      "  \"intermediate_size\": 14336,\n",
      "  \"max_position_embeddings\": 8192,\n",
      "  \"model_type\": \"mistral\",\n",
      "  \"num_attention_heads\": 32,\n",
      "  \"num_hidden_layers\": 32,\n",
      "  \"num_key_value_heads\": 8,\n",
      "  \"rms_norm_eps\": 1e-05,\n",
      "  \"rope_theta\": 10000.0,\n",
      "  \"sliding_window\": 4096,\n",
      "  \"tie_word_embeddings\": false,\n",
      "  \"torch_dtype\": \"bfloat16\",\n",
      "  \"transformers_version\": \"4.41.2\",\n",
      "  \"use_cache\": true,\n",
      "  \"vocab_size\": 32002\n",
      "}\n",
      "\n",
      "Special tokens have been added in the vocabulary, make sure the associated word embeddings are fine-tuned or trained.\n"
     ]
    },
    {
     "name": "stdout",
     "output_type": "stream",
     "text": [
      "['/home/qiuyang/miniconda3/envs/swift/lib/python3.11/site-packages/ray/thirdparty_files', '/home/qiuyang/workplace/swift/examples/pytorch/llm/my_inferencing', '/home/qiuyang/miniconda3/envs/swift/lib/python311.zip', '/home/qiuyang/miniconda3/envs/swift/lib/python3.11', '/home/qiuyang/miniconda3/envs/swift/lib/python3.11/lib-dynload', '', '/home/qiuyang/miniconda3/envs/swift/lib/python3.11/site-packages', '/home/qiuyang/workplace/swift', '/tmp/tmpzlvv0zby', '/home/qiuyang/workplace/swift/examples/pytorch/llm/']\n",
      "31\n",
      "32\n",
      "33\n",
      "34\n",
      "35\n",
      "36\n",
      "37\n",
      "38\n",
      "39\n",
      "40\n"
     ]
    }
   ],
   "source": [
    "import os\n",
    "os.environ['CUDA_VISIBLE_DEVICES'] = '0'\n",
    "from transformers import AutoModelForCausalLM, AutoTokenizer\n",
    "from peft import PeftModel, PeftConfig\n",
    "import torch\n",
    "import linecache\n",
    "from swift.llm import (\n",
    "    get_model_tokenizer, get_template, inference, ModelType, get_default_template_type,\n",
    ")\n",
    "from swift.llm import (\n",
    "    ModelType, get_vllm_engine, get_default_template_type,\n",
    "    get_template, inference_vllm, VllmGenerationConfig\n",
    ")\n",
    "from swift.utils import seed_everything\n",
    "from swift.tuners import Swift\n",
    "import json\n",
    "\n",
    "#VllmConfig\n",
    "generation_config = VllmGenerationConfig(\n",
    "    max_new_tokens=4096,\n",
    "    temperature=0,\n",
    ")\n",
    "\n",
    "import sys\n",
    "print(sys.path)\n",
    "sys.path.append('/home/qiuyang/workplace/swift/examples/pytorch/llm/')\n",
    "\n",
    "import custom\n",
    "\n",
    "model_type4 = custom.CustomModelType.openchat_35\n",
    "template_type4 = custom.CustomTemplateType.openchat_35\n",
    "model_openchat, tokenizer_openchat = get_model_tokenizer(model_type4, model_kwargs={'device_map': 'auto'}, model_dir=\"/home/css/models/openchat-3.5-0106\",load_model=False)\n",
    "\n",
    "content_list = []\n",
    "# count = 0\n",
    "# 打开JSON文件\n",
    "\n",
    "for i in range(31,41):\n",
    "    print(i)\n",
    "    \n",
    "\n",
    "\n",
    "    # print(len(content_list))"
   ]
  },
  {
   "cell_type": "code",
   "execution_count": 2,
   "metadata": {},
   "outputs": [
    {
     "name": "stdout",
     "output_type": "stream",
     "text": [
      "546866\n"
     ]
    }
   ],
   "source": [
    "count = 0\n",
    "with open(f'/home/qiuyang/workplace/swift/examples/pytorch/llm/my_data/data/c4_data_duiqi/timestamp_data_v1.0.json', 'r') as input_file:\n",
    "    # 逐行读取文件内容\n",
    "    for line in input_file:\n",
    "        # 解析JSON数据\n",
    "        count = count + 1\n",
    "print(count)"
   ]
  },
  {
   "cell_type": "code",
   "execution_count": 3,
   "metadata": {},
   "outputs": [],
   "source": [
    "import os\n",
    "os.environ['CUDA_VISIBLE_DEVICES'] = '0'\n",
    "from transformers import AutoModelForCausalLM, AutoTokenizer\n",
    "from peft import PeftModel, PeftConfig\n",
    "import torch\n",
    "import linecache\n",
    "from swift.utils import seed_everything\n",
    "from swift.tuners import Swift\n",
    "import json\n",
    "\n",
    "\n",
    "with open(f'/home/qiuyang/workplace/swift/examples/pytorch/llm/my_data/data/c4_data_duiqi/static_data_v1.0.json', 'r') as input_file:\n",
    "        path_file = f'/home/qiuyang/workplace/swift/examples/pytorch/llm/my_data/data/c4_data_duiqi/total_data_v1.0.json'\n",
    "        with open(path_file, 'a') as output_file:\n",
    "            # 逐行读取文件内容\n",
    "            for line in input_file:\n",
    "                # 解析JSON数据\n",
    "                data = json.loads(line)\n",
    "\n",
    "                json.dump(data, output_file)\n",
    "                output_file.write('\\n')"
   ]
  }
 ],
 "metadata": {
  "kernelspec": {
   "display_name": "swift",
   "language": "python",
   "name": "python3"
  },
  "language_info": {
   "codemirror_mode": {
    "name": "ipython",
    "version": 3
   },
   "file_extension": ".py",
   "mimetype": "text/x-python",
   "name": "python",
   "nbconvert_exporter": "python",
   "pygments_lexer": "ipython3",
   "version": "3.11.9"
  }
 },
 "nbformat": 4,
 "nbformat_minor": 2
}
